{
  "cells": [
    {
      "cell_type": "markdown",
      "id": "25d7736c-ba17-4aff-b6bb-66eba20fbf4e",
      "metadata": {
        "id": "25d7736c-ba17-4aff-b6bb-66eba20fbf4e"
      },
      "source": [
        "# Lab | List, Dict and Set Comprehension"
      ]
    },
    {
      "cell_type": "markdown",
      "id": "7dd3cbde-675a-4b81-92c3-f728846dbe06",
      "metadata": {
        "id": "7dd3cbde-675a-4b81-92c3-f728846dbe06"
      },
      "source": [
        "## Exercise: Managing Customer Orders Optimized with Comprehension"
      ]
    },
    {
      "cell_type": "markdown",
      "id": "5d500160-2fb7-4777-b5e4-09d45ebaf328",
      "metadata": {
        "id": "5d500160-2fb7-4777-b5e4-09d45ebaf328"
      },
      "source": [
        "In the previous exercise, you developed a program to manage customer orders and inventory. Now, let's take it a step further and incorporate comprehension into your code.\n",
        "\n",
        "Follow the steps below to complete the exercise:\n",
        "\n",
        "1. Review your code from the previous exercise and identify areas where you can apply comprehension to simplify and streamline your code.\n",
        "\n",
        "    - *Hint: Apply it to initialize inventory, updating the inventory and printing the updated inventory.*\n",
        "    \n",
        "    - For example, in initializing the inventory, we could have:\n",
        "    \n",
        "        ```python\n",
        "        def initialize_inventory(products):\n",
        "            inventory = {product: int(input(f\"Enter the quantity of {product}s available: \")) for product in products}\n",
        "            return inventory\n",
        "\n",
        "        ```\n",
        "<br>\n",
        "    \n",
        "    \n",
        "2. Modify the function get_customer_orders so it prompts the user to enter the number of customer orders and gathers the product names using a loop and user input. Use comprehension.\n",
        "\n",
        "3. Add a new function to calculate the total price of the customer order. For each product in customer_orders, prompt the user to enter the price of that product. Use comprehension to calculate the total price. Note: assume that the user can only have 1 unit of each product.\n",
        "\n",
        "4. Modify the update_inventory function to remove the product from the inventory if its quantity becomes zero after fulfilling the customer orders. Use comprehension to filter out the products with a quantity of zero from the inventory.\n",
        "\n",
        "5. Print the total price of the customer order.\n",
        "\n",
        "Your code should produce output similar to the following:\n",
        "\n",
        "```python\n",
        "Enter the quantity of t-shirts available:  5\n",
        "Enter the quantity of mugs available:  4\n",
        "Enter the quantity of hats available:  3\n",
        "Enter the quantity of books available:  2\n",
        "Enter the quantity of keychains available:  1\n",
        "Enter the number of customer orders:  2\n",
        "Enter the name of a product that a customer wants to order:  hat\n",
        "Enter the name of a product that a customer wants to order:  keychain\n",
        "\n",
        "Order Statistics:\n",
        "Total Products Ordered: 2\n",
        "Percentage of Unique Products Ordered: 40.0\n",
        "\n",
        "Updated Inventory:\n",
        "t-shirt: 5\n",
        "mug: 4\n",
        "hat: 2\n",
        "book: 2\n",
        "Enter the price of keychain:  5\n",
        "Enter the price of hat:  10\n",
        "Total Price: 15.0\n",
        "\n",
        "```\n"
      ]
    },
    {
      "cell_type": "code",
      "source": [
        "# 1.\n",
        "products = [\"t-shirt\", \"mug\", \"book\", \"hat\", \"keychain\"]\n",
        "\n",
        "def initialize_inventory(products):\n",
        "  return {product: int(input(f\"Enter the quantity of {product}s available: \")) for product in products}\n",
        "\n",
        "print(\"Initialized Inventory \", initialize_inventory(products))"
      ],
      "metadata": {
        "id": "e3ZBFZmOkJk8"
      },
      "id": "e3ZBFZmOkJk8",
      "execution_count": null,
      "outputs": []
    },
    {
      "cell_type": "code",
      "source": [
        "# 1.\n",
        "def get_customer_orders():\n",
        "      customer_orders = {product:(input(f\"How many {product}s would you like to order? \")) for product in products}\n",
        "\n",
        "      return customer_orders\n",
        "print(\"Customer's order is:\", get_customer_orders())"
      ],
      "metadata": {
        "id": "dROqinOBvTHD"
      },
      "id": "dROqinOBvTHD",
      "execution_count": null,
      "outputs": []
    },
    {
      "cell_type": "code",
      "source": [
        "# 1. # Sorry could not get this one\n",
        "\n",
        "products = [\"t-shirt\", \"mug\", \"book\", \"hat\", \"keychain\"]\n",
        "\n",
        "def update_inventory(customer_orders, inventory):\n",
        "  update_inventory = {product for product in customer_orders if product in products}\n",
        "  return update_inventory\n",
        "\n",
        "print(\"Updated Inventory \", update_inventory(get_customer_orders(), initialize_inventory(products)))"
      ],
      "metadata": {
        "id": "v6Au4mCgsvyl"
      },
      "id": "v6Au4mCgsvyl",
      "execution_count": null,
      "outputs": []
    },
    {
      "cell_type": "code",
      "source": [
        "# 2.\n",
        "def get_customer_orders_mod(customer_orders):\n",
        "  customer_orders_mod = {product: int(input(f\"How many {product}s did the client ordered? \")) for product in customer_orders}\n",
        "  return customer_orders_mod\n",
        "\n",
        "print(\"Customer orders modified is\", get_customer_orders_mod(get_customer_orders()))"
      ],
      "metadata": {
        "id": "eU1QLsy5JC7b"
      },
      "id": "eU1QLsy5JC7b",
      "execution_count": null,
      "outputs": []
    },
    {
      "cell_type": "code",
      "source": [
        "# 3.\n",
        "def total_price():\n",
        "  price = {float(input(f\"How much € per unit of {product}? \")) for product in products}\n",
        "  return sum(price)\n",
        "\n",
        "print(\"Total amount is\", total_price())\n",
        "# This still is kinda of a pain, because it's still a set, and if the price is repeated it won't consider it :/"
      ],
      "metadata": {
        "id": "FPQpjmrlJC5b"
      },
      "id": "FPQpjmrlJC5b",
      "execution_count": null,
      "outputs": []
    },
    {
      "cell_type": "code",
      "source": [
        "# 4. Don't have update_inventory function right, so I will another one!\n",
        "# Sorry for this :/ At least my company never gets out of stock (ah ah ah)\n",
        "\n",
        "def check_stock(products):\n",
        "   stock = {int(input(f\"Enter the quantity of {products} available: \")) if len(products) > 2 else print(\"sorry\")}\n",
        "   return stock\n",
        "\n",
        "print(\"Stock is\", check_stock(products))\n"
      ],
      "metadata": {
        "id": "QVFutxOwrBiJ"
      },
      "id": "QVFutxOwrBiJ",
      "execution_count": null,
      "outputs": []
    },
    {
      "cell_type": "code",
      "source": [
        "# Another bad approach:\n",
        "\n",
        "def check_stock(products):\n",
        "    # Use list comprehension to get stock input for each product\n",
        "    stock = {product: int(input(f\"Enter the quantity of {product}s available: \")) for product in products} if len(products) > 3 else None\n",
        "    return stock\n",
        "\n",
        "check_stock(products)\n",
        "print(\"Stock is\", check_stock(products))"
      ],
      "metadata": {
        "id": "u1623EOHCocX"
      },
      "id": "u1623EOHCocX",
      "execution_count": null,
      "outputs": []
    },
    {
      "cell_type": "code",
      "source": [
        "# 5. Print the total price of the customer order.\n",
        "# Maybe next time :)\n",
        "\n",
        "#pip install pyjokes\n",
        "\n",
        "import pyjokes\n",
        "\n",
        "My_joke = pyjokes.get_joke(language=\"en\", category=\"all\")\n",
        "\n",
        "print(My_joke)"
      ],
      "metadata": {
        "colab": {
          "base_uri": "https://localhost:8080/"
        },
        "id": "un5Aic76EOi6",
        "outputId": "fa582aa6-6954-432b-94ab-d684a943a82b"
      },
      "id": "un5Aic76EOi6",
      "execution_count": 16,
      "outputs": [
        {
          "output_type": "stream",
          "name": "stdout",
          "text": [
            "Why do sin and tan work? Just cos.\n"
          ]
        }
      ]
    }
  ],
  "metadata": {
    "kernelspec": {
      "display_name": "Python 3 (ipykernel)",
      "language": "python",
      "name": "python3"
    },
    "language_info": {
      "codemirror_mode": {
        "name": "ipython",
        "version": 3
      },
      "file_extension": ".py",
      "mimetype": "text/x-python",
      "name": "python",
      "nbconvert_exporter": "python",
      "pygments_lexer": "ipython3",
      "version": "3.9.13"
    },
    "colab": {
      "provenance": []
    }
  },
  "nbformat": 4,
  "nbformat_minor": 5
}